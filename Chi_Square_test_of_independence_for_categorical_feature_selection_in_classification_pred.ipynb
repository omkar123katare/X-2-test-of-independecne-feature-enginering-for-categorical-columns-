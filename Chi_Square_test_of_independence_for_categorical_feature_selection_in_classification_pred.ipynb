{
  "nbformat": 4,
  "nbformat_minor": 0,
  "metadata": {
    "colab": {
      "name": "Chi-Square test of independence for categorical feature selection in classification pred.ipynb",
      "provenance": [],
      "authorship_tag": "ABX9TyPlRjlJiv8xBW4JJmWu07eI",
      "include_colab_link": true
    },
    "kernelspec": {
      "name": "python3",
      "display_name": "Python 3"
    },
    "language_info": {
      "name": "python"
    }
  },
  "cells": [
    {
      "cell_type": "markdown",
      "metadata": {
        "id": "view-in-github",
        "colab_type": "text"
      },
      "source": [
        "<a href=\"https://colab.research.google.com/github/omkar123katare/X-2-test-of-independecne-feature-enginering-for-categorical-columns-/blob/main/Chi_Square_test_of_independence_for_categorical_feature_selection_in_classification_pred.ipynb\" target=\"_parent\"><img src=\"https://colab.research.google.com/assets/colab-badge.svg\" alt=\"Open In Colab\"/></a>"
      ]
    },
    {
      "cell_type": "markdown",
      "source": [
        "# **we will see how we can apply statistical thinking in feature selection process. We will apply  Chi-Square test of independence in this video.  Chi-Square test of independence is used to determine if there is a significant relationship between two categorical variables**"
      ],
      "metadata": {
        "id": "ClyXG5xvXZwl"
      }
    },
    {
      "cell_type": "markdown",
      "source": [
        "**Question - What different technique can you use for feature selection.**\n",
        "\n",
        "**Answer -** Statistical techniques are not the only way to do feature selection, We can do **foreward selection**, **Backward elimination**If we have large dataset, we can **sub-sample our dataset into multiple chunks, then train XG-Boost, random-forest classifier. From each classifier, we can get feature importances**. We can also have some **probabilistic ways of selecting the top features**. There are multiple options available for feature engineering."
      ],
      "metadata": {
        "id": "oPWLCgrXZtSn"
      }
    },
    {
      "cell_type": "markdown",
      "source": [
        "**Question - Why go for statistical tests to identify the sigificant features then?**\n",
        "\n",
        "**Answer -** \n",
        "1. Above methods are computationally heavy. \n",
        "2. I did not want to move into my modelling stage with unnecessaty features.\n",
        "3. I want to move ahead with my model building using only the important features."
      ],
      "metadata": {
        "id": "x9ZxEOQrbLDj"
      }
    },
    {
      "cell_type": "markdown",
      "source": [
        "##**Start**"
      ],
      "metadata": {
        "id": "CKzgeSSFc1Xh"
      }
    },
    {
      "cell_type": "code",
      "execution_count": 1,
      "metadata": {
        "id": "wlOhmF5LW21N"
      },
      "outputs": [],
      "source": [
        "# importing libraries\n",
        "import pandas as pd\n",
        "import numpy as np\n",
        "import seaborn as sns\n",
        "import matplotlib.pyplot as plt"
      ]
    },
    {
      "cell_type": "code",
      "source": [
        "churn_master_copy=pd.read_csv('https://raw.githubusercontent.com/srivatsan88/YouTubeLI/master/dataset/churn_data_st.csv')\n",
        "churn_data=churn_master_copy.copy()\n",
        "churn_data.head()"
      ],
      "metadata": {
        "id": "_P667M0WXPsg"
      },
      "execution_count": 6,
      "outputs": []
    },
    {
      "cell_type": "code",
      "source": [
        "churn_data.head()"
      ],
      "metadata": {
        "colab": {
          "base_uri": "https://localhost:8080/",
          "height": 206
        },
        "id": "hS45B_MC1FaA",
        "outputId": "114271d7-3c04-4d20-f3d7-fcc457c2fc1b"
      },
      "execution_count": 86,
      "outputs": [
        {
          "output_type": "execute_result",
          "data": {
            "text/plain": [
              "   customerID  gender  SeniorCitizen  tenure  ServiceCount        Contract  \\\n",
              "0  7590-VHVEG  Female              0       1             2  Month-to-month   \n",
              "1  5575-GNVDE    Male              0      34             4        One year   \n",
              "2  3668-QPYBK    Male              0       2             4  Month-to-month   \n",
              "3  7795-CFOCW    Male              0      45             4        One year   \n",
              "4  9237-HQITU  Female              0       2             2  Month-to-month   \n",
              "\n",
              "  PaperlessBilling  MonthlyCharges  TotalCharges Churn  \n",
              "0              Yes           29.85         29.85    No  \n",
              "1               No           56.95       1889.50    No  \n",
              "2              Yes           53.85        108.15   Yes  \n",
              "3               No           42.30       1840.75    No  \n",
              "4              Yes           70.70        151.65   Yes  "
            ],
            "text/html": [
              "\n",
              "  <div id=\"df-b103d1f4-8f6d-4af8-a389-6e31398954f9\">\n",
              "    <div class=\"colab-df-container\">\n",
              "      <div>\n",
              "<style scoped>\n",
              "    .dataframe tbody tr th:only-of-type {\n",
              "        vertical-align: middle;\n",
              "    }\n",
              "\n",
              "    .dataframe tbody tr th {\n",
              "        vertical-align: top;\n",
              "    }\n",
              "\n",
              "    .dataframe thead th {\n",
              "        text-align: right;\n",
              "    }\n",
              "</style>\n",
              "<table border=\"1\" class=\"dataframe\">\n",
              "  <thead>\n",
              "    <tr style=\"text-align: right;\">\n",
              "      <th></th>\n",
              "      <th>customerID</th>\n",
              "      <th>gender</th>\n",
              "      <th>SeniorCitizen</th>\n",
              "      <th>tenure</th>\n",
              "      <th>ServiceCount</th>\n",
              "      <th>Contract</th>\n",
              "      <th>PaperlessBilling</th>\n",
              "      <th>MonthlyCharges</th>\n",
              "      <th>TotalCharges</th>\n",
              "      <th>Churn</th>\n",
              "    </tr>\n",
              "  </thead>\n",
              "  <tbody>\n",
              "    <tr>\n",
              "      <th>0</th>\n",
              "      <td>7590-VHVEG</td>\n",
              "      <td>Female</td>\n",
              "      <td>0</td>\n",
              "      <td>1</td>\n",
              "      <td>2</td>\n",
              "      <td>Month-to-month</td>\n",
              "      <td>Yes</td>\n",
              "      <td>29.85</td>\n",
              "      <td>29.85</td>\n",
              "      <td>No</td>\n",
              "    </tr>\n",
              "    <tr>\n",
              "      <th>1</th>\n",
              "      <td>5575-GNVDE</td>\n",
              "      <td>Male</td>\n",
              "      <td>0</td>\n",
              "      <td>34</td>\n",
              "      <td>4</td>\n",
              "      <td>One year</td>\n",
              "      <td>No</td>\n",
              "      <td>56.95</td>\n",
              "      <td>1889.50</td>\n",
              "      <td>No</td>\n",
              "    </tr>\n",
              "    <tr>\n",
              "      <th>2</th>\n",
              "      <td>3668-QPYBK</td>\n",
              "      <td>Male</td>\n",
              "      <td>0</td>\n",
              "      <td>2</td>\n",
              "      <td>4</td>\n",
              "      <td>Month-to-month</td>\n",
              "      <td>Yes</td>\n",
              "      <td>53.85</td>\n",
              "      <td>108.15</td>\n",
              "      <td>Yes</td>\n",
              "    </tr>\n",
              "    <tr>\n",
              "      <th>3</th>\n",
              "      <td>7795-CFOCW</td>\n",
              "      <td>Male</td>\n",
              "      <td>0</td>\n",
              "      <td>45</td>\n",
              "      <td>4</td>\n",
              "      <td>One year</td>\n",
              "      <td>No</td>\n",
              "      <td>42.30</td>\n",
              "      <td>1840.75</td>\n",
              "      <td>No</td>\n",
              "    </tr>\n",
              "    <tr>\n",
              "      <th>4</th>\n",
              "      <td>9237-HQITU</td>\n",
              "      <td>Female</td>\n",
              "      <td>0</td>\n",
              "      <td>2</td>\n",
              "      <td>2</td>\n",
              "      <td>Month-to-month</td>\n",
              "      <td>Yes</td>\n",
              "      <td>70.70</td>\n",
              "      <td>151.65</td>\n",
              "      <td>Yes</td>\n",
              "    </tr>\n",
              "  </tbody>\n",
              "</table>\n",
              "</div>\n",
              "      <button class=\"colab-df-convert\" onclick=\"convertToInteractive('df-b103d1f4-8f6d-4af8-a389-6e31398954f9')\"\n",
              "              title=\"Convert this dataframe to an interactive table.\"\n",
              "              style=\"display:none;\">\n",
              "        \n",
              "  <svg xmlns=\"http://www.w3.org/2000/svg\" height=\"24px\"viewBox=\"0 0 24 24\"\n",
              "       width=\"24px\">\n",
              "    <path d=\"M0 0h24v24H0V0z\" fill=\"none\"/>\n",
              "    <path d=\"M18.56 5.44l.94 2.06.94-2.06 2.06-.94-2.06-.94-.94-2.06-.94 2.06-2.06.94zm-11 1L8.5 8.5l.94-2.06 2.06-.94-2.06-.94L8.5 2.5l-.94 2.06-2.06.94zm10 10l.94 2.06.94-2.06 2.06-.94-2.06-.94-.94-2.06-.94 2.06-2.06.94z\"/><path d=\"M17.41 7.96l-1.37-1.37c-.4-.4-.92-.59-1.43-.59-.52 0-1.04.2-1.43.59L10.3 9.45l-7.72 7.72c-.78.78-.78 2.05 0 2.83L4 21.41c.39.39.9.59 1.41.59.51 0 1.02-.2 1.41-.59l7.78-7.78 2.81-2.81c.8-.78.8-2.07 0-2.86zM5.41 20L4 18.59l7.72-7.72 1.47 1.35L5.41 20z\"/>\n",
              "  </svg>\n",
              "      </button>\n",
              "      \n",
              "  <style>\n",
              "    .colab-df-container {\n",
              "      display:flex;\n",
              "      flex-wrap:wrap;\n",
              "      gap: 12px;\n",
              "    }\n",
              "\n",
              "    .colab-df-convert {\n",
              "      background-color: #E8F0FE;\n",
              "      border: none;\n",
              "      border-radius: 50%;\n",
              "      cursor: pointer;\n",
              "      display: none;\n",
              "      fill: #1967D2;\n",
              "      height: 32px;\n",
              "      padding: 0 0 0 0;\n",
              "      width: 32px;\n",
              "    }\n",
              "\n",
              "    .colab-df-convert:hover {\n",
              "      background-color: #E2EBFA;\n",
              "      box-shadow: 0px 1px 2px rgba(60, 64, 67, 0.3), 0px 1px 3px 1px rgba(60, 64, 67, 0.15);\n",
              "      fill: #174EA6;\n",
              "    }\n",
              "\n",
              "    [theme=dark] .colab-df-convert {\n",
              "      background-color: #3B4455;\n",
              "      fill: #D2E3FC;\n",
              "    }\n",
              "\n",
              "    [theme=dark] .colab-df-convert:hover {\n",
              "      background-color: #434B5C;\n",
              "      box-shadow: 0px 1px 3px 1px rgba(0, 0, 0, 0.15);\n",
              "      filter: drop-shadow(0px 1px 2px rgba(0, 0, 0, 0.3));\n",
              "      fill: #FFFFFF;\n",
              "    }\n",
              "  </style>\n",
              "\n",
              "      <script>\n",
              "        const buttonEl =\n",
              "          document.querySelector('#df-b103d1f4-8f6d-4af8-a389-6e31398954f9 button.colab-df-convert');\n",
              "        buttonEl.style.display =\n",
              "          google.colab.kernel.accessAllowed ? 'block' : 'none';\n",
              "\n",
              "        async function convertToInteractive(key) {\n",
              "          const element = document.querySelector('#df-b103d1f4-8f6d-4af8-a389-6e31398954f9');\n",
              "          const dataTable =\n",
              "            await google.colab.kernel.invokeFunction('convertToInteractive',\n",
              "                                                     [key], {});\n",
              "          if (!dataTable) return;\n",
              "\n",
              "          const docLinkHtml = 'Like what you see? Visit the ' +\n",
              "            '<a target=\"_blank\" href=https://colab.research.google.com/notebooks/data_table.ipynb>data table notebook</a>'\n",
              "            + ' to learn more about interactive tables.';\n",
              "          element.innerHTML = '';\n",
              "          dataTable['output_type'] = 'display_data';\n",
              "          await google.colab.output.renderOutput(dataTable, element);\n",
              "          const docLink = document.createElement('div');\n",
              "          docLink.innerHTML = docLinkHtml;\n",
              "          element.appendChild(docLink);\n",
              "        }\n",
              "      </script>\n",
              "    </div>\n",
              "  </div>\n",
              "  "
            ]
          },
          "metadata": {},
          "execution_count": 86
        }
      ]
    },
    {
      "cell_type": "code",
      "source": [
        "churn_data.info()"
      ],
      "metadata": {
        "colab": {
          "base_uri": "https://localhost:8080/"
        },
        "id": "t061InZzYTtc",
        "outputId": "038e9ad0-4e89-4c5d-bc84-962ff9dfdca4"
      },
      "execution_count": 9,
      "outputs": [
        {
          "output_type": "stream",
          "name": "stdout",
          "text": [
            "<class 'pandas.core.frame.DataFrame'>\n",
            "RangeIndex: 7043 entries, 0 to 7042\n",
            "Data columns (total 10 columns):\n",
            " #   Column            Non-Null Count  Dtype  \n",
            "---  ------            --------------  -----  \n",
            " 0   customerID        7043 non-null   object \n",
            " 1   gender            7043 non-null   object \n",
            " 2   SeniorCitizen     7043 non-null   int64  \n",
            " 3   tenure            7043 non-null   int64  \n",
            " 4   ServiceCount      7043 non-null   int64  \n",
            " 5   Contract          7043 non-null   object \n",
            " 6   PaperlessBilling  7043 non-null   object \n",
            " 7   MonthlyCharges    7043 non-null   float64\n",
            " 8   TotalCharges      7016 non-null   float64\n",
            " 9   Churn             7043 non-null   object \n",
            "dtypes: float64(2), int64(3), object(5)\n",
            "memory usage: 550.4+ KB\n"
          ]
        }
      ]
    },
    {
      "cell_type": "markdown",
      "source": [
        "### Here target varibale is Churn. We will take independent categorical variables and see signifance of a categorical variable against the target variable column. \n",
        "1. If the variable is not significant, we can drop it and need not use it in the machine learning pipeline.\n",
        "2. If it is significant, we use it in machine learning pipeline."
      ],
      "metadata": {
        "id": "PPjAXjfwYh-1"
      }
    },
    {
      "cell_type": "markdown",
      "source": [
        "##**Checking if gender column is statistically significant while predicting churn**"
      ],
      "metadata": {
        "id": "PjqiZVGocn9x"
      }
    },
    {
      "cell_type": "code",
      "source": [
        "# Unique values/ categories in the columns\n",
        "print(f\"Number of unique elements in the gender column are {churn_data['gender'].nunique()} ----> {churn_data['gender'].unique()}\")\n",
        "print(f\"Number of unique elements in the churn column are {churn_data['Churn'].nunique()} ----> {churn_data['Churn'].unique()}\")"
      ],
      "metadata": {
        "colab": {
          "base_uri": "https://localhost:8080/"
        },
        "id": "zemD9Uf3YU66",
        "outputId": "f1edb013-8a72-4aac-9cc6-1ab9a574b53c"
      },
      "execution_count": 15,
      "outputs": [
        {
          "output_type": "stream",
          "name": "stdout",
          "text": [
            "Number of unique elements in the gender column are 2 ----> ['Female' 'Male']\n",
            "Number of unique elements in the churn column are 2 ----> ['No' 'Yes']\n"
          ]
        }
      ]
    },
    {
      "cell_type": "markdown",
      "source": [
        "**Null Hypothesis-** There is no relationship between 'Churn' and 'gender' columns.\n",
        "\n",
        "\n",
        "**Alternate Hypothesis-** There is a relationship between 'Churn' and 'gender' columns."
      ],
      "metadata": {
        "id": "XmwIYEraeCm9"
      }
    },
    {
      "cell_type": "markdown",
      "source": [
        "Chi-sqaure test will tell us about the significance of the relationship between the two categorical columns. i.e. if the selected column is statistically significant for Churn column ( target column ) or not."
      ],
      "metadata": {
        "id": "h2nOxe6bevsF"
      }
    },
    {
      "cell_type": "code",
      "source": [
        "sns.countplot(data=churn_data,x='gender',hue='Churn')"
      ],
      "metadata": {
        "colab": {
          "base_uri": "https://localhost:8080/",
          "height": 296
        },
        "id": "Q3Y4v0ILfscy",
        "outputId": "7de5259a-bc49-4139-9cf6-2a39d4d2f76d"
      },
      "execution_count": 18,
      "outputs": [
        {
          "output_type": "execute_result",
          "data": {
            "text/plain": [
              "<matplotlib.axes._subplots.AxesSubplot at 0x7f128e313410>"
            ]
          },
          "metadata": {},
          "execution_count": 18
        },
        {
          "output_type": "display_data",
          "data": {
            "text/plain": [
              "<Figure size 432x288 with 1 Axes>"
            ],
            "image/png": "[encoded data removed]"
          },
          "metadata": {
            "needs_background": "light"
          }
        }
      ]
    },
    {
      "cell_type": "markdown",
      "source": [
        "From above graph we can say that we can just remove the gender column, Because the impact of gender on churnig seems to be negligible. We will check this using statistical test-**Chi-sqaure test**."
      ],
      "metadata": {
        "id": "BTemGr8igSDY"
      }
    },
    {
      "cell_type": "markdown",
      "source": [
        "The way Chi-Square test works is, we need to create a **contegency table**. Contency table are also called as **crosstab**. This table is used to **summarize the relationship batween several categorical values**. "
      ],
      "metadata": {
        "id": "HG1XQmayhVQx"
      }
    },
    {
      "cell_type": "code",
      "source": [
        "gender_churn_crosstab_value=pd.crosstab(index=churn_data['Churn'],columns=churn_data['gender'])"
      ],
      "metadata": {
        "id": "2d8sxisxgCRs"
      },
      "execution_count": 52,
      "outputs": []
    },
    {
      "cell_type": "code",
      "source": [
        "gender_churn_crosstab_value"
      ],
      "metadata": {
        "colab": {
          "base_uri": "https://localhost:8080/",
          "height": 143
        },
        "id": "leQLUdt9iM-j",
        "outputId": "53c88dcb-e94b-4900-8c53-83901826a2e1"
      },
      "execution_count": 53,
      "outputs": [
        {
          "output_type": "execute_result",
          "data": {
            "text/plain": [
              "gender  Female  Male\n",
              "Churn               \n",
              "No        2549  2625\n",
              "Yes        939   930"
            ],
            "text/html": [
              "\n",
              "  <div id=\"df-01d3cbbd-922b-4ba8-8fb4-9f50fc06ed2e\">\n",
              "    <div class=\"colab-df-container\">\n",
              "      <div>\n",
              "<style scoped>\n",
              "    .dataframe tbody tr th:only-of-type {\n",
              "        vertical-align: middle;\n",
              "    }\n",
              "\n",
              "    .dataframe tbody tr th {\n",
              "        vertical-align: top;\n",
              "    }\n",
              "\n",
              "    .dataframe thead th {\n",
              "        text-align: right;\n",
              "    }\n",
              "</style>\n",
              "<table border=\"1\" class=\"dataframe\">\n",
              "  <thead>\n",
              "    <tr style=\"text-align: right;\">\n",
              "      <th>gender</th>\n",
              "      <th>Female</th>\n",
              "      <th>Male</th>\n",
              "    </tr>\n",
              "    <tr>\n",
              "      <th>Churn</th>\n",
              "      <th></th>\n",
              "      <th></th>\n",
              "    </tr>\n",
              "  </thead>\n",
              "  <tbody>\n",
              "    <tr>\n",
              "      <th>No</th>\n",
              "      <td>2549</td>\n",
              "      <td>2625</td>\n",
              "    </tr>\n",
              "    <tr>\n",
              "      <th>Yes</th>\n",
              "      <td>939</td>\n",
              "      <td>930</td>\n",
              "    </tr>\n",
              "  </tbody>\n",
              "</table>\n",
              "</div>\n",
              "      <button class=\"colab-df-convert\" onclick=\"convertToInteractive('df-01d3cbbd-922b-4ba8-8fb4-9f50fc06ed2e')\"\n",
              "              title=\"Convert this dataframe to an interactive table.\"\n",
              "              style=\"display:none;\">\n",
              "        \n",
              "  <svg xmlns=\"http://www.w3.org/2000/svg\" height=\"24px\"viewBox=\"0 0 24 24\"\n",
              "       width=\"24px\">\n",
              "    <path d=\"M0 0h24v24H0V0z\" fill=\"none\"/>\n",
              "    <path d=\"M18.56 5.44l.94 2.06.94-2.06 2.06-.94-2.06-.94-.94-2.06-.94 2.06-2.06.94zm-11 1L8.5 8.5l.94-2.06 2.06-.94-2.06-.94L8.5 2.5l-.94 2.06-2.06.94zm10 10l.94 2.06.94-2.06 2.06-.94-2.06-.94-.94-2.06-.94 2.06-2.06.94z\"/><path d=\"M17.41 7.96l-1.37-1.37c-.4-.4-.92-.59-1.43-.59-.52 0-1.04.2-1.43.59L10.3 9.45l-7.72 7.72c-.78.78-.78 2.05 0 2.83L4 21.41c.39.39.9.59 1.41.59.51 0 1.02-.2 1.41-.59l7.78-7.78 2.81-2.81c.8-.78.8-2.07 0-2.86zM5.41 20L4 18.59l7.72-7.72 1.47 1.35L5.41 20z\"/>\n",
              "  </svg>\n",
              "      </button>\n",
              "      \n",
              "  <style>\n",
              "    .colab-df-container {\n",
              "      display:flex;\n",
              "      flex-wrap:wrap;\n",
              "      gap: 12px;\n",
              "    }\n",
              "\n",
              "    .colab-df-convert {\n",
              "      background-color: #E8F0FE;\n",
              "      border: none;\n",
              "      border-radius: 50%;\n",
              "      cursor: pointer;\n",
              "      display: none;\n",
              "      fill: #1967D2;\n",
              "      height: 32px;\n",
              "      padding: 0 0 0 0;\n",
              "      width: 32px;\n",
              "    }\n",
              "\n",
              "    .colab-df-convert:hover {\n",
              "      background-color: #E2EBFA;\n",
              "      box-shadow: 0px 1px 2px rgba(60, 64, 67, 0.3), 0px 1px 3px 1px rgba(60, 64, 67, 0.15);\n",
              "      fill: #174EA6;\n",
              "    }\n",
              "\n",
              "    [theme=dark] .colab-df-convert {\n",
              "      background-color: #3B4455;\n",
              "      fill: #D2E3FC;\n",
              "    }\n",
              "\n",
              "    [theme=dark] .colab-df-convert:hover {\n",
              "      background-color: #434B5C;\n",
              "      box-shadow: 0px 1px 3px 1px rgba(0, 0, 0, 0.15);\n",
              "      filter: drop-shadow(0px 1px 2px rgba(0, 0, 0, 0.3));\n",
              "      fill: #FFFFFF;\n",
              "    }\n",
              "  </style>\n",
              "\n",
              "      <script>\n",
              "        const buttonEl =\n",
              "          document.querySelector('#df-01d3cbbd-922b-4ba8-8fb4-9f50fc06ed2e button.colab-df-convert');\n",
              "        buttonEl.style.display =\n",
              "          google.colab.kernel.accessAllowed ? 'block' : 'none';\n",
              "\n",
              "        async function convertToInteractive(key) {\n",
              "          const element = document.querySelector('#df-01d3cbbd-922b-4ba8-8fb4-9f50fc06ed2e');\n",
              "          const dataTable =\n",
              "            await google.colab.kernel.invokeFunction('convertToInteractive',\n",
              "                                                     [key], {});\n",
              "          if (!dataTable) return;\n",
              "\n",
              "          const docLinkHtml = 'Like what you see? Visit the ' +\n",
              "            '<a target=\"_blank\" href=https://colab.research.google.com/notebooks/data_table.ipynb>data table notebook</a>'\n",
              "            + ' to learn more about interactive tables.';\n",
              "          element.innerHTML = '';\n",
              "          dataTable['output_type'] = 'display_data';\n",
              "          await google.colab.output.renderOutput(dataTable, element);\n",
              "          const docLink = document.createElement('div');\n",
              "          docLink.innerHTML = docLinkHtml;\n",
              "          element.appendChild(docLink);\n",
              "        }\n",
              "      </script>\n",
              "    </div>\n",
              "  </div>\n",
              "  "
            ]
          },
          "metadata": {},
          "execution_count": 53
        }
      ]
    },
    {
      "cell_type": "markdown",
      "source": [
        "Internally to find the chi2 statistic, following formula is used-\n",
        "\n",
        "**X^2= (sum(Observed - Expected)^2/Expected)**\n",
        "\n",
        "But how exactly is it calculated?"
      ],
      "metadata": {
        "id": "8C89RrLhryx8"
      }
    },
    {
      "cell_type": "code",
      "source": [
        "gender_churn_crosstab_value.iloc[0].values"
      ],
      "metadata": {
        "colab": {
          "base_uri": "https://localhost:8080/"
        },
        "id": "pA_7cVKKkiSb",
        "outputId": "ff234bb0-dce8-41ff-f3b5-136731fdd413"
      },
      "execution_count": 54,
      "outputs": [
        {
          "output_type": "execute_result",
          "data": {
            "text/plain": [
              "array([2549, 2625])"
            ]
          },
          "metadata": {},
          "execution_count": 54
        }
      ]
    },
    {
      "cell_type": "code",
      "source": [
        "gender_churn_crosstab_value.iloc[1].values"
      ],
      "metadata": {
        "colab": {
          "base_uri": "https://localhost:8080/"
        },
        "id": "xLguGR8yknnG",
        "outputId": "032a8457-a157-4ce9-9b26-9c5bc725a86a"
      },
      "execution_count": 55,
      "outputs": [
        {
          "output_type": "execute_result",
          "data": {
            "text/plain": [
              "array([939, 930])"
            ]
          },
          "metadata": {},
          "execution_count": 55
        }
      ]
    },
    {
      "cell_type": "markdown",
      "source": [
        "Now to run Chi-square test, we will use **scipy stats package**. We will use **Chi-square test of independence**. There are multiple ways of using a Chi-sqaure test. Here we will use **'Pearson's Chi-sqaure test of independence'**."
      ],
      "metadata": {
        "id": "zUl6WfpnjTjT"
      }
    },
    {
      "cell_type": "code",
      "source": [
        "from scipy import stats"
      ],
      "metadata": {
        "id": "nezfyyatj-91"
      },
      "execution_count": 56,
      "outputs": []
    },
    {
      "cell_type": "code",
      "source": [
        "# For using Chi-sqaure Contegency table, we need to pass in list of values corrsponding to different categories\n",
        "(chi2_value_gender,p_value_gender,degrees_of_freedom_gender,array_gender)=stats.chi2_contingency([gender_churn_crosstab_value.iloc[0].values,gender_churn_crosstab_value.iloc[1].values])"
      ],
      "metadata": {
        "id": "4B1qGboQkMO0"
      },
      "execution_count": 65,
      "outputs": []
    },
    {
      "cell_type": "code",
      "source": [
        "print(chi2_value_gender)"
      ],
      "metadata": {
        "colab": {
          "base_uri": "https://localhost:8080/"
        },
        "id": "lnzXcNako_mP",
        "outputId": "cde0086f-d6f0-4893-b30f-e614dd708eca"
      },
      "execution_count": 66,
      "outputs": [
        {
          "output_type": "stream",
          "name": "stdout",
          "text": [
            "0.4840828822091383\n"
          ]
        }
      ]
    },
    {
      "cell_type": "code",
      "source": [
        "# number_of_categories-1\n",
        "print(degrees_of_freedom_gender)"
      ],
      "metadata": {
        "colab": {
          "base_uri": "https://localhost:8080/"
        },
        "id": "fbElPWtMpC1a",
        "outputId": "98b45302-d1f8-440e-8e69-31d0ae79eeaf"
      },
      "execution_count": 67,
      "outputs": [
        {
          "output_type": "stream",
          "name": "stdout",
          "text": [
            "1\n"
          ]
        }
      ]
    },
    {
      "cell_type": "markdown",
      "source": [
        "**How is this p-value obtained theoretically?**\n",
        "\n",
        "We need to use the chi2 value obtained from formula to check the chi2 table and for coresponding (**chi2 value** and **degrees of freedom value**) we can get the p-value."
      ],
      "metadata": {
        "id": "RetJXCwjpT7R"
      }
    },
    {
      "cell_type": "code",
      "source": [
        "print(p_value_gender)"
      ],
      "metadata": {
        "colab": {
          "base_uri": "https://localhost:8080/"
        },
        "id": "smWfUO4YmeA-",
        "outputId": "aa12c723-569d-4711-e6a0-d9027b8829ce"
      },
      "execution_count": 68,
      "outputs": [
        {
          "output_type": "stream",
          "name": "stdout",
          "text": [
            "0.48657873605618596\n"
          ]
        }
      ]
    },
    {
      "cell_type": "markdown",
      "source": [
        "P-value we obtained to 0.48. The critical value (alpha value) we had set is 0.05. The obtained **P-vlaue is way more than critical alpha value**.\n",
        "**We dont need to use the gender column**, because this column is not providing any additional information on whether the customer will churn ir not."
      ],
      "metadata": {
        "id": "V74L8mcgp9c0"
      }
    },
    {
      "cell_type": "markdown",
      "source": [
        "**While doing feature selection for classification modelling** for churn data for predicting if the customer got churned, by seeing that the **P-value chi2 test between gender and churn column is way more than 0.05**, **we can just drop the gender column**. "
      ],
      "metadata": {
        "id": "d8mu53I9q4jl"
      }
    },
    {
      "cell_type": "markdown",
      "source": [
        "**1. Drop column if p-value is more than the critical alpha value**\n",
        "\n",
        "**2. Don't drop column if p-value is lass than crtitical alpha value**"
      ],
      "metadata": {
        "id": "ONEVjdHxxR2U"
      }
    },
    {
      "cell_type": "markdown",
      "source": [
        "##**Checking if paperless billing column is statistically significant while predicting churn**"
      ],
      "metadata": {
        "id": "nw_mj2wRssVF"
      }
    },
    {
      "cell_type": "markdown",
      "source": [
        ":**Null Hypothesis-** There is no relationship between 'Churn' and 'paperless billing' columns.\n",
        "\n",
        "\n",
        "**Alternate Hypothesis-** There is a relationship between 'Churn' and 'paperless billing' columns."
      ],
      "metadata": {
        "id": "hI6SpLBp1oz4"
      }
    },
    {
      "cell_type": "markdown",
      "source": [
        "Chi-sqaure test will tell us about the significance of the relationship between the two categorical columns. i.e. if the selected column is statistically significant for Churn column ( target column ) or not."
      ],
      "metadata": {
        "id": "HvYUwH5r1oz5"
      }
    },
    {
      "cell_type": "code",
      "source": [
        "sns.countplot(data=churn_data,x='PaperlessBilling',hue='Churn')"
      ],
      "metadata": {
        "colab": {
          "base_uri": "https://localhost:8080/",
          "height": 296
        },
        "id": "zIxtavhiufBz",
        "outputId": "ef962e57-9ba1-4c5a-ebd0-7cab51e7e69d"
      },
      "execution_count": 74,
      "outputs": [
        {
          "output_type": "execute_result",
          "data": {
            "text/plain": [
              "<matplotlib.axes._subplots.AxesSubplot at 0x7f128deb18d0>"
            ]
          },
          "metadata": {},
          "execution_count": 74
        },
        {
          "output_type": "display_data",
          "data": {
            "text/plain": [
              "<Figure size 432x288 with 1 Axes>"
            ],
            "image/png": "[encoded data removed]"
          },
          "metadata": {
            "needs_background": "light"
          }
        }
      ]
    },
    {
      "cell_type": "code",
      "source": [
        "paperless_billing_churn_crosstab_value=pd.crosstab(index=churn_data['PaperlessBilling'],columns=churn_data['Churn'])"
      ],
      "metadata": {
        "id": "y9XREP7ks0DD"
      },
      "execution_count": 81,
      "outputs": []
    },
    {
      "cell_type": "code",
      "source": [
        "paperless_billing_churn_crosstab_value"
      ],
      "metadata": {
        "colab": {
          "base_uri": "https://localhost:8080/",
          "height": 143
        },
        "id": "oXIdnQBjs6aV",
        "outputId": "bacacabe-609f-4a6b-d50a-ea20bbec2cbd"
      },
      "execution_count": 82,
      "outputs": [
        {
          "output_type": "execute_result",
          "data": {
            "text/plain": [
              "Churn               No   Yes\n",
              "PaperlessBilling            \n",
              "No                2403   469\n",
              "Yes               2771  1400"
            ],
            "text/html": [
              "\n",
              "  <div id=\"df-474c42d3-08df-41ce-90ca-0343086f5882\">\n",
              "    <div class=\"colab-df-container\">\n",
              "      <div>\n",
              "<style scoped>\n",
              "    .dataframe tbody tr th:only-of-type {\n",
              "        vertical-align: middle;\n",
              "    }\n",
              "\n",
              "    .dataframe tbody tr th {\n",
              "        vertical-align: top;\n",
              "    }\n",
              "\n",
              "    .dataframe thead th {\n",
              "        text-align: right;\n",
              "    }\n",
              "</style>\n",
              "<table border=\"1\" class=\"dataframe\">\n",
              "  <thead>\n",
              "    <tr style=\"text-align: right;\">\n",
              "      <th>Churn</th>\n",
              "      <th>No</th>\n",
              "      <th>Yes</th>\n",
              "    </tr>\n",
              "    <tr>\n",
              "      <th>PaperlessBilling</th>\n",
              "      <th></th>\n",
              "      <th></th>\n",
              "    </tr>\n",
              "  </thead>\n",
              "  <tbody>\n",
              "    <tr>\n",
              "      <th>No</th>\n",
              "      <td>2403</td>\n",
              "      <td>469</td>\n",
              "    </tr>\n",
              "    <tr>\n",
              "      <th>Yes</th>\n",
              "      <td>2771</td>\n",
              "      <td>1400</td>\n",
              "    </tr>\n",
              "  </tbody>\n",
              "</table>\n",
              "</div>\n",
              "      <button class=\"colab-df-convert\" onclick=\"convertToInteractive('df-474c42d3-08df-41ce-90ca-0343086f5882')\"\n",
              "              title=\"Convert this dataframe to an interactive table.\"\n",
              "              style=\"display:none;\">\n",
              "        \n",
              "  <svg xmlns=\"http://www.w3.org/2000/svg\" height=\"24px\"viewBox=\"0 0 24 24\"\n",
              "       width=\"24px\">\n",
              "    <path d=\"M0 0h24v24H0V0z\" fill=\"none\"/>\n",
              "    <path d=\"M18.56 5.44l.94 2.06.94-2.06 2.06-.94-2.06-.94-.94-2.06-.94 2.06-2.06.94zm-11 1L8.5 8.5l.94-2.06 2.06-.94-2.06-.94L8.5 2.5l-.94 2.06-2.06.94zm10 10l.94 2.06.94-2.06 2.06-.94-2.06-.94-.94-2.06-.94 2.06-2.06.94z\"/><path d=\"M17.41 7.96l-1.37-1.37c-.4-.4-.92-.59-1.43-.59-.52 0-1.04.2-1.43.59L10.3 9.45l-7.72 7.72c-.78.78-.78 2.05 0 2.83L4 21.41c.39.39.9.59 1.41.59.51 0 1.02-.2 1.41-.59l7.78-7.78 2.81-2.81c.8-.78.8-2.07 0-2.86zM5.41 20L4 18.59l7.72-7.72 1.47 1.35L5.41 20z\"/>\n",
              "  </svg>\n",
              "      </button>\n",
              "      \n",
              "  <style>\n",
              "    .colab-df-container {\n",
              "      display:flex;\n",
              "      flex-wrap:wrap;\n",
              "      gap: 12px;\n",
              "    }\n",
              "\n",
              "    .colab-df-convert {\n",
              "      background-color: #E8F0FE;\n",
              "      border: none;\n",
              "      border-radius: 50%;\n",
              "      cursor: pointer;\n",
              "      display: none;\n",
              "      fill: #1967D2;\n",
              "      height: 32px;\n",
              "      padding: 0 0 0 0;\n",
              "      width: 32px;\n",
              "    }\n",
              "\n",
              "    .colab-df-convert:hover {\n",
              "      background-color: #E2EBFA;\n",
              "      box-shadow: 0px 1px 2px rgba(60, 64, 67, 0.3), 0px 1px 3px 1px rgba(60, 64, 67, 0.15);\n",
              "      fill: #174EA6;\n",
              "    }\n",
              "\n",
              "    [theme=dark] .colab-df-convert {\n",
              "      background-color: #3B4455;\n",
              "      fill: #D2E3FC;\n",
              "    }\n",
              "\n",
              "    [theme=dark] .colab-df-convert:hover {\n",
              "      background-color: #434B5C;\n",
              "      box-shadow: 0px 1px 3px 1px rgba(0, 0, 0, 0.15);\n",
              "      filter: drop-shadow(0px 1px 2px rgba(0, 0, 0, 0.3));\n",
              "      fill: #FFFFFF;\n",
              "    }\n",
              "  </style>\n",
              "\n",
              "      <script>\n",
              "        const buttonEl =\n",
              "          document.querySelector('#df-474c42d3-08df-41ce-90ca-0343086f5882 button.colab-df-convert');\n",
              "        buttonEl.style.display =\n",
              "          google.colab.kernel.accessAllowed ? 'block' : 'none';\n",
              "\n",
              "        async function convertToInteractive(key) {\n",
              "          const element = document.querySelector('#df-474c42d3-08df-41ce-90ca-0343086f5882');\n",
              "          const dataTable =\n",
              "            await google.colab.kernel.invokeFunction('convertToInteractive',\n",
              "                                                     [key], {});\n",
              "          if (!dataTable) return;\n",
              "\n",
              "          const docLinkHtml = 'Like what you see? Visit the ' +\n",
              "            '<a target=\"_blank\" href=https://colab.research.google.com/notebooks/data_table.ipynb>data table notebook</a>'\n",
              "            + ' to learn more about interactive tables.';\n",
              "          element.innerHTML = '';\n",
              "          dataTable['output_type'] = 'display_data';\n",
              "          await google.colab.output.renderOutput(dataTable, element);\n",
              "          const docLink = document.createElement('div');\n",
              "          docLink.innerHTML = docLinkHtml;\n",
              "          element.appendChild(docLink);\n",
              "        }\n",
              "      </script>\n",
              "    </div>\n",
              "  </div>\n",
              "  "
            ]
          },
          "metadata": {},
          "execution_count": 82
        }
      ]
    },
    {
      "cell_type": "code",
      "source": [
        "# For using Chi-sqaure Contegency table, we need to pass in list of values corrsponding to different categories\n",
        "(chi2_value_billing,p_value_billing,degrees_of_freedom_billing,array_billing)=stats.chi2_contingency([paperless_billing_churn_crosstab_value.iloc[0].values,paperless_billing_churn_crosstab_value.iloc[1].values])"
      ],
      "metadata": {
        "id": "Obdiv7Sts9px"
      },
      "execution_count": 83,
      "outputs": []
    },
    {
      "cell_type": "code",
      "source": [
        "print(chi2_value_billing)"
      ],
      "metadata": {
        "colab": {
          "base_uri": "https://localhost:8080/"
        },
        "id": "sXw67EkltjQD",
        "outputId": "6aa5cfa6-e8d1-4044-eb26-c13b30703792"
      },
      "execution_count": 84,
      "outputs": [
        {
          "output_type": "stream",
          "name": "stdout",
          "text": [
            "258.27764906707307\n"
          ]
        }
      ]
    },
    {
      "cell_type": "code",
      "source": [
        "print(p_value_billing)"
      ],
      "metadata": {
        "colab": {
          "base_uri": "https://localhost:8080/"
        },
        "id": "Y9VpQX2dvrEc",
        "outputId": "e9c7a0f5-0bdc-4ca6-b34a-0652b8d9a6a1"
      },
      "execution_count": 85,
      "outputs": [
        {
          "output_type": "stream",
          "name": "stdout",
          "text": [
            "4.073354668665985e-58\n"
          ]
        }
      ]
    },
    {
      "cell_type": "markdown",
      "source": [
        "This means, **being paperless has an impact on  whether customer has churned or not**. So, 'paperless'column has some direct or indirect impact on 'churn' **hence, Paperless billing is an important column and hence must be used while doing classification modelling for churn prediction.**"
      ],
      "metadata": {
        "id": "1J1u-pOyur7O"
      }
    },
    {
      "cell_type": "markdown",
      "source": [
        "##**Checking if contract column is statistically significant while predicting churn**"
      ],
      "metadata": {
        "id": "2ylL0QhZ1cVp"
      }
    },
    {
      "cell_type": "markdown",
      "source": [
        "**Null Hypothesis-** There is no relationship between 'Churn' and 'contract' columns.\n",
        "\n",
        "\n",
        "**Alternate Hypothesis-** There is a relationship between 'Churn' and 'contract' columns."
      ],
      "metadata": {
        "id": "i2SCoh-H10VP"
      }
    },
    {
      "cell_type": "markdown",
      "source": [
        "Chi-sqaure test will tell us about the significance of the relationship between the two categorical columns. i.e. if the selected column is statistically significant for Churn column ( target column ) or not."
      ],
      "metadata": {
        "id": "n9zVtDr810VR"
      }
    },
    {
      "cell_type": "code",
      "source": [
        "contract_column_churn_crosstab_value=pd.crosstab(columns=churn_data['Contract'],index=churn_data['Churn'])"
      ],
      "metadata": {
        "id": "cfUq9JZO197H"
      },
      "execution_count": 88,
      "outputs": []
    },
    {
      "cell_type": "code",
      "source": [
        "# For using Chi-sqaure Contegency table, we need to pass in list of values corrsponding to different categories\n",
        "(chi2_value_contract,p_value_contract,degrees_of_freedom_contarct,array_billing)=stats.chi2_contingency([contract_column_churn_crosstab_value.iloc[0].values,contract_column_churn_crosstab_value.iloc[1].values,contract_column_churn_crosstab_value.iloc[2].values])"
      ],
      "metadata": {
        "id": "NmyoJDXH2N6o"
      },
      "execution_count": 93,
      "outputs": []
    },
    {
      "cell_type": "code",
      "source": [
        "print(chi2_value_contract)"
      ],
      "metadata": {
        "colab": {
          "base_uri": "https://localhost:8080/"
        },
        "id": "YvPPHOuO2qWN",
        "outputId": "980d16ca-3a79-4734-a1a0-0e98a4a37e93"
      },
      "execution_count": 94,
      "outputs": [
        {
          "output_type": "stream",
          "name": "stdout",
          "text": [
            "1184.5965720837926\n"
          ]
        }
      ]
    },
    {
      "cell_type": "code",
      "source": [
        "print(p_value_contract)"
      ],
      "metadata": {
        "colab": {
          "base_uri": "https://localhost:8080/"
        },
        "id": "tHsEXUMr2y7r",
        "outputId": "7a790de3-2b9f-41a8-905a-12f2d218d38a"
      },
      "execution_count": 95,
      "outputs": [
        {
          "output_type": "stream",
          "name": "stdout",
          "text": [
            "5.863038300673391e-258\n"
          ]
        }
      ]
    },
    {
      "cell_type": "markdown",
      "source": [
        "**P value is way less than 0.05**. Hence **contract column is very significant while while predicting 'Churn'**"
      ],
      "metadata": {
        "id": "VAOs7bnn23bA"
      }
    },
    {
      "cell_type": "markdown",
      "source": [
        "#**Chi2 test VS cramers V test**"
      ],
      "metadata": {
        "id": "hJcDo5ajzpZM"
      }
    },
    {
      "cell_type": "markdown",
      "source": [
        "\n",
        "1. **chi2 test** tells about **significance of the relationship**.\n",
        "2. **cramers V** test tells us about the **strength of the relationship**."
      ],
      "metadata": {
        "id": "bP82T1Msy7nf"
      }
    },
    {
      "cell_type": "markdown",
      "source": [
        "#**Chi2 test VS Fishers Exact test**"
      ],
      "metadata": {
        "id": "iDuKai_Rz6Tz"
      }
    },
    {
      "cell_type": "markdown",
      "source": [
        "1. **Fishers Exact test** is mostly used where there are **less observations in categories**. ( Not useful for US). Also number of categories are less (may be 2)\n",
        "\n",
        "Eg. Having less than 5 observations in category buckets. Having only 2 categories. i.e. Contingency table is a 2*2 matrix."
      ],
      "metadata": {
        "id": "Ng3cFFo70AJ3"
      }
    }
  ]
}